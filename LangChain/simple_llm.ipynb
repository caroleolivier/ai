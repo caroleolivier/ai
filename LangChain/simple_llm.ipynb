{
 "cells": [
  {
   "cell_type": "markdown",
   "id": "0bddbbdb-daff-4825-bfd7-e0e05abaabdc",
   "metadata": {},
   "source": [
    "## Building a simple LLM\n",
    "\n",
    "Going through this [tutorial](https://python.langchain.com/v0.2/docs/tutorials/llm_chain/)"
   ]
  },
  {
   "cell_type": "markdown",
   "id": "94af9581-912d-40fb-bfa6-52b4cf24e491",
   "metadata": {},
   "source": [
    "### Setting up LangChain and LangSmith"
   ]
  },
  {
   "cell_type": "code",
   "execution_count": 1,
   "id": "f5516651-1846-431b-9ef1-3cb602bb5cad",
   "metadata": {},
   "outputs": [
    {
     "name": "stdin",
     "output_type": "stream",
     "text": [
      " ········\n"
     ]
    }
   ],
   "source": [
    "# setting up langsmith env variables\n",
    "# pip install langchain\n",
    "\n",
    "import getpass\n",
    "import os\n",
    "\n",
    "os.environ[\"LANGCHAIN_TRACING_V2\"] = \"true\"\n",
    "os.environ[\"LANGCHAIN_API_KEY\"] = getpass.getpass()"
   ]
  },
  {
   "cell_type": "markdown",
   "id": "3e6a3def-ac7d-448d-948f-d94cc326da14",
   "metadata": {},
   "source": [
    "### Using LLM"
   ]
  },
  {
   "cell_type": "code",
   "execution_count": 2,
   "id": "53a1ba3b-7898-4cd8-b8be-7a5609880c8d",
   "metadata": {},
   "outputs": [
    {
     "name": "stdin",
     "output_type": "stream",
     "text": [
      " ········\n"
     ]
    }
   ],
   "source": [
    "# installing and using LLM\n",
    "# pip install -U langchain-mistralai\n",
    "\n",
    "import getpass\n",
    "import os\n",
    "\n",
    "os.environ[\"MISTRAL_API_KEY\"] = getpass.getpass()\n",
    "\n",
    "from langchain_mistralai import ChatMistralAI\n",
    "\n",
    "model = ChatMistralAI(model=\"mistral-large-latest\")"
   ]
  },
  {
   "cell_type": "code",
   "execution_count": 6,
   "id": "726fa095-81a2-428a-af9e-07fb762e39f5",
   "metadata": {},
   "outputs": [
    {
     "data": {
      "text/plain": [
       "AIMessage(content='Ciao mondo!', response_metadata={'token_usage': {'prompt_tokens': 34, 'total_tokens': 39, 'completion_tokens': 5}, 'model': 'mistral-large-latest', 'finish_reason': 'stop'}, id='run-31d3a4a0-1158-416a-a4a1-c903e443bdd3-0')"
      ]
     },
     "execution_count": 6,
     "metadata": {},
     "output_type": "execute_result"
    }
   ],
   "source": [
    "from langchain_core.messages import HumanMessage, SystemMessage\n",
    "\n",
    "messages = [\n",
    "    SystemMessage(content=\"Translate the following from English into Italian. Dont provide information on why it's translated the way it is, just translate\"),\n",
    "    HumanMessage(content=\"hello world!\"),\n",
    "]\n",
    "\n",
    "result = model.invoke(messages)\n",
    "result"
   ]
  },
  {
   "cell_type": "markdown",
   "id": "1dd90a91-c04f-48d0-8879-6288918e4f08",
   "metadata": {},
   "source": [
    "### Parsing Messages"
   ]
  },
  {
   "cell_type": "code",
   "execution_count": 7,
   "id": "496b65f4-70ce-4274-b7d2-d904dd2f1670",
   "metadata": {},
   "outputs": [
    {
     "data": {
      "text/plain": [
       "'Ciao mondo!'"
      ]
     },
     "execution_count": 7,
     "metadata": {},
     "output_type": "execute_result"
    }
   ],
   "source": [
    "from langchain_core.output_parsers import StrOutputParser\n",
    "parser = StrOutputParser()\n",
    "\n",
    "parser.invoke(result)"
   ]
  },
  {
   "cell_type": "markdown",
   "id": "09b72d7a-e46e-4e02-a4e8-2edbe5f0f979",
   "metadata": {},
   "source": [
    "### Chaining"
   ]
  },
  {
   "cell_type": "code",
   "execution_count": 8,
   "id": "c713b80f-3156-4d34-b754-02ef4ae47c55",
   "metadata": {},
   "outputs": [
    {
     "data": {
      "text/plain": [
       "'Ciao mondo!'"
      ]
     },
     "execution_count": 8,
     "metadata": {},
     "output_type": "execute_result"
    }
   ],
   "source": [
    "chain = model | parser\n",
    "\n",
    "chain.invoke(messages)"
   ]
  },
  {
   "cell_type": "markdown",
   "id": "ea25ed7e-8138-4692-bdaf-96ca2eee8b86",
   "metadata": {},
   "source": [
    "### Building Chat Prompt"
   ]
  },
  {
   "cell_type": "code",
   "execution_count": 9,
   "id": "2768ddb4-5e27-41f4-a54c-ef33fede8f20",
   "metadata": {},
   "outputs": [
    {
     "data": {
      "text/plain": [
       "ChatPromptValue(messages=[SystemMessage(content=\"Translate the following from English into italian. Dont provide information on why it's translated the way it is, just translate\"), HumanMessage(content='hello world!')])"
      ]
     },
     "execution_count": 9,
     "metadata": {},
     "output_type": "execute_result"
    }
   ],
   "source": [
    "from langchain_core.prompts import ChatPromptTemplate\n",
    "\n",
    "prompt_template = ChatPromptTemplate.from_messages(\n",
    "    [\n",
    "        (\"system\", \"Translate the following from English into {language}. Dont provide information on why it's translated the way it is, just translate\"),\n",
    "        (\"user\", \"{text}\")\n",
    "    ]\n",
    ")\n",
    "\n",
    "result = prompt_template.invoke({\"language\": \"italian\", \"text\": \"hello world!\"})\n",
    "\n",
    "result\n"
   ]
  },
  {
   "cell_type": "code",
   "execution_count": 11,
   "id": "287bfb50-f8a1-4ceb-a1af-8149c441d834",
   "metadata": {},
   "outputs": [
    {
     "data": {
      "text/plain": [
       "'Ciao mondo'"
      ]
     },
     "execution_count": 11,
     "metadata": {},
     "output_type": "execute_result"
    }
   ],
   "source": [
    "chain_with_prompt = prompt_template | model | parser\n",
    "\n",
    "input = {\"language\": \"italian\", \"text\": \"hello world\"}\n",
    "chain_with_prompt.invoke(input)"
   ]
  },
  {
   "cell_type": "code",
   "execution_count": null,
   "id": "1f82e987-75a7-4f9a-93db-d19e72a03a6f",
   "metadata": {},
   "outputs": [],
   "source": []
  }
 ],
 "metadata": {
  "kernelspec": {
   "display_name": "Python 3 (ipykernel)",
   "language": "python",
   "name": "python3"
  },
  "language_info": {
   "codemirror_mode": {
    "name": "ipython",
    "version": 3
   },
   "file_extension": ".py",
   "mimetype": "text/x-python",
   "name": "python",
   "nbconvert_exporter": "python",
   "pygments_lexer": "ipython3",
   "version": "3.12.3"
  }
 },
 "nbformat": 4,
 "nbformat_minor": 5
}
